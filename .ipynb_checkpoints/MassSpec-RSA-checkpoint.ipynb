{
 "cells": [
  {
   "cell_type": "markdown",
   "metadata": {},
   "source": [
    "<h1> Mass Spec Signal Analysis </h1>"
   ]
  },
  {
   "cell_type": "markdown",
   "metadata": {},
   "source": [
    "### How to use this app\n",
    "\n",
    "This is a Jupyter Notebook. Blocks of python code are displayed with output below. Here, the output contains widgets you'll use to analyze data.\n",
    "\n",
    "* [Box 1] Choose the folder that contains your data files (Don't choose the actual files - This program will get all the files in the folder). all files in the folder must be data files (csv formatted text documents - .txt is fine just make sure the format is right.)\n",
    "* [Box 2] Once you choose a file, you have to click the code above box 2. Then hit the run button on the toolbar above. Then, if you want to run a preview of your dataset hit the \"Load Preview\" button.\n",
    "* [Box 3] Input your desired AMU's and background scan # range. Hit \"run\" to run the data analysis (This may take awhile!)"
   ]
  },
  {
   "cell_type": "code",
   "execution_count": 1,
   "metadata": {
    "scrolled": true
   },
   "outputs": [
    {
     "data": {
      "text/html": [
       "<h3>Box 1 - Choose a file:</h3>"
      ],
      "text/plain": [
       "<IPython.core.display.HTML object>"
      ]
     },
     "metadata": {},
     "output_type": "display_data"
    },
    {
     "data": {
      "application/vnd.jupyter.widget-view+json": {
       "model_id": "1dd5722929bc4d67be720696d39478ed",
       "version_major": 2,
       "version_minor": 0
      },
      "text/plain": [
       "FileChooser(path='Z:', filename=' ', show_hidden='False')"
      ]
     },
     "metadata": {},
     "output_type": "display_data"
    }
   ],
   "source": [
    "from ipyfilechooser import FileChooser\n",
    "import ipywidgets as widgets\n",
    "from IPython.core.display import display, HTML\n",
    "import os\n",
    "\n",
    "DEFAULT_PATH = \"Z:\\\\\"\n",
    "\n",
    "display(HTML(\"<h3>Box 1 - Choose a file:</h3>\"))\n",
    "\n",
    "# Create and display a FileChooser widget\n",
    "fc = FileChooser()\n",
    "fc.default_path = DEFAULT_PATH\n",
    "fc.default_filename = \" \"\n",
    "display(fc)\n"
   ]
  },
  {
   "cell_type": "code",
   "execution_count": 20,
   "metadata": {},
   "outputs": [
    {
     "data": {
      "text/html": [
       "<h3>Box 2 - Preview Data</h3>"
      ],
      "text/plain": [
       "<IPython.core.display.HTML object>"
      ]
     },
     "metadata": {},
     "output_type": "display_data"
    },
    {
     "data": {
      "image/png": "[encoded data removed]",
      "text/plain": [
       "<matplotlib.figure.Figure at 0x1272bfd0>"
      ]
     },
     "metadata": {
      "needs_background": "light"
     },
     "output_type": "display_data"
    },
    {
     "data": {
      "application/vnd.jupyter.widget-view+json": {
       "model_id": "0d3ee0a60dd44ce7b10c22410e0095dc",
       "version_major": 2,
       "version_minor": 0
      },
      "text/plain": [
       "Button(description='Load Preview', style=ButtonStyle())"
      ]
     },
     "metadata": {},
     "output_type": "display_data"
    },
    {
     "name": "stdout",
     "output_type": "stream",
     "text": [
      "Please Wait\n"
     ]
    },
    {
     "data": {
      "text/html": [
       "\n",
       "    <table>\n",
       "        <thead>\n",
       "            <th> # of Scans </th>\n",
       "            <th> Min AMU </th>\n",
       "            <th> Max AMU </th>\n",
       "        </thead>\n",
       "        <tbody>\n",
       "            <tr> \n",
       "                <td> 199 </td>\n",
       "                <td> 30 </td>\n",
       "                <td> 80 </td>\n",
       "            </tr>\n",
       "        </tbody>\n",
       "    </table>\n",
       "    "
      ],
      "text/plain": [
       "<IPython.core.display.HTML object>"
      ]
     },
     "metadata": {},
     "output_type": "display_data"
    },
    {
     "data": {
      "application/vnd.jupyter.widget-view+json": {
       "model_id": "3474aed1888e4259860fd6031eddc232",
       "version_major": 2,
       "version_minor": 0
      },
      "text/plain": [
       "Dropdown(description='AMU:', options=(30, 31, 32, 33, 34, 35, 36, 37, 38, 39, 40, 41, 42, 43, 44, 45, 46, 47, …"
      ]
     },
     "metadata": {},
     "output_type": "display_data"
    }
   ],
   "source": [
    "import data\n",
    "import matplotlib.pyplot as plt\n",
    "\n",
    "display(HTML(\"<h3>Box 2 - Preview Data</h3>\"))\n",
    "prev_but = widgets.Button(description = \"Load Preview\")\n",
    "\n",
    "prev_fig = plt.figure(figsize=(8,6))\n",
    "prev_ax = prev_fig.add_subplot(111)\n",
    "plt.show()\n",
    "folder = fc.selected_path\n",
    "def load_preview(prev_but):\n",
    "    print(\"Please Wait\")\n",
    "    fname = os.listdir(folder)[0]\n",
    "    path = folder+\"//\"+fname\n",
    "    table = data.read_extrel(path)\n",
    "    \n",
    "    display(HTML(\n",
    "    \"\"\"\n",
    "    <table>\n",
    "        <thead>\n",
    "            <th> # of Scans </th>\n",
    "            <th> Min AMU </th>\n",
    "            <th> Max AMU </th>\n",
    "        </thead>\n",
    "        <tbody>\n",
    "            <tr> \n",
    "                <td> {} </td>\n",
    "                <td> {} </td>\n",
    "                <td> {} </td>\n",
    "            </tr>\n",
    "        </tbody>\n",
    "    </table>\n",
    "    \"\"\".format(len(table.iloc[1]), min(table.index), max(table.index))\n",
    "    ))\n",
    "    preview_select(table)\n",
    "\n",
    "def preview_select(data):\n",
    "    amuselect = widgets.Dropdown(description=\"AMU:\", options=data.index)\n",
    "    viz = lambda widg: preview_viz(widg, amuselect, data)\n",
    "    display(amuselect)\n",
    "    amuselect.observe(viz, names=\"value\")\n",
    "\n",
    "def preview_viz(widg, amuselect, data):\n",
    "        #plot a preview\n",
    "#     prev_ax.clear()\n",
    "#     print(prev_ax)\n",
    "    amu = int(amuselect.value)\n",
    "    preview_row = data.loc[amu]\n",
    "    x = range(len(preview_row))\n",
    "    prev_ax.scatter(x, preview_row, s=20, c='red')\n",
    "    prev_ax.set_xlabel(\"Scan #\")\n",
    "    prev_ax.set_ylabel(\"Intensity\")\n",
    "    prev_ax.set_title(\"amu={}: preview\".format(amu))\n",
    "#     plt.show()\n",
    "\n",
    "display(prev_but)\n",
    "prev_but.on_click(load_preview, )"
   ]
  },
  {
   "cell_type": "code",
   "execution_count": 3,
   "metadata": {},
   "outputs": [
    {
     "data": {
      "text/html": [
       "<h3>Box 3 - Analysis Input</h3>"
      ],
      "text/plain": [
       "<IPython.core.display.HTML object>"
      ]
     },
     "metadata": {},
     "output_type": "display_data"
    },
    {
     "data": {
      "text/html": [
       "Mass Peaks to integrate (Comma Separated, no spaces):"
      ],
      "text/plain": [
       "<IPython.core.display.HTML object>"
      ]
     },
     "metadata": {},
     "output_type": "display_data"
    },
    {
     "data": {
      "application/vnd.jupyter.widget-view+json": {
       "model_id": "d6845f65ea9f48749a62e8a4deedc115",
       "version_major": 2,
       "version_minor": 0
      },
      "text/plain": [
       "Text(value='78', description=\"AMU's\")"
      ]
     },
     "metadata": {},
     "output_type": "display_data"
    },
    {
     "data": {
      "text/html": [
       "Background Range(Scan #'s'):"
      ],
      "text/plain": [
       "<IPython.core.display.HTML object>"
      ]
     },
     "metadata": {},
     "output_type": "display_data"
    },
    {
     "data": {
      "application/vnd.jupyter.widget-view+json": {
       "model_id": "e60bb8f02bb54a2ba8dc80da0fba1ccb",
       "version_major": 2,
       "version_minor": 0
      },
      "text/plain": [
       "Text(value='0', description='Start')"
      ]
     },
     "metadata": {},
     "output_type": "display_data"
    },
    {
     "data": {
      "application/vnd.jupyter.widget-view+json": {
       "model_id": "970fe46bf9db46bcb4058034e39fb417",
       "version_major": 2,
       "version_minor": 0
      },
      "text/plain": [
       "Text(value='75', description='End')"
      ]
     },
     "metadata": {},
     "output_type": "display_data"
    }
   ],
   "source": [
    "display(HTML(\"<h3>Box 3 - Analysis Input</h3>\"))\n",
    "\n",
    "amus = widgets.Text(description=\"AMU's\", value=\"78\")\n",
    "bg_start = widgets.Text(description=\"Start\", value=\"0\")\n",
    "bg_end = widgets.Text(description=\"End\", value=\"75\")\n",
    "\n",
    "display(HTML(\"Mass Peaks to integrate (Comma Separated, no spaces):\"))\n",
    "display(amus)\n",
    "display(HTML(\"Background Range(Scan #'s'):\"))\n",
    "display(bg_start)\n",
    "display(bg_end)\n",
    "\n"
   ]
  },
  {
   "cell_type": "code",
   "execution_count": 15,
   "metadata": {
    "scrolled": false
   },
   "outputs": [
    {
     "data": {
      "application/vnd.jupyter.widget-view+json": {
       "model_id": "4627e2525a1449bab9ea0d4a72e0dca0",
       "version_major": 2,
       "version_minor": 0
      },
      "text/plain": [
       "Button(description='Run', style=ButtonStyle())"
      ]
     },
     "metadata": {},
     "output_type": "display_data"
    }
   ],
   "source": [
    "run = widgets.Button(description=\"Run\")\n",
    "\n",
    "def run_analysis(btn):\n",
    "    #get the input data\n",
    "    amulist = amus.value.split(',')\n",
    "    if amulist[-1]==\"\":\n",
    "        del amulist[-1]\n",
    "    for i in range(len(amulist)):\n",
    "        amulist[i] = int(amulist[i])\n",
    "        \n",
    "    bgs = int(bg_start.value)\n",
    "    bge = int(bg_end.value)\n",
    "    results = data.analyze(folder, bgs, bge, amulist)\n",
    "    print(results)\n",
    "    return results\n",
    "\n",
    "run.on_click(run_analysis)\n",
    "display(run)"
   ]
  },
  {
   "cell_type": "code",
   "execution_count": null,
   "metadata": {},
   "outputs": [],
   "source": [
    "\n"
   ]
  }
 ],
 "metadata": {
  "kernelspec": {
   "display_name": "Python 3",
   "language": "python",
   "name": "python3"
  },
  "language_info": {
   "codemirror_mode": {
    "name": "ipython",
    "version": 3
   },
   "file_extension": ".py",
   "mimetype": "text/x-python",
   "name": "python",
   "nbconvert_exporter": "python",
   "pygments_lexer": "ipython3",
   "version": "3.5.4"
  }
 },
 "nbformat": 4,
 "nbformat_minor": 2
}
